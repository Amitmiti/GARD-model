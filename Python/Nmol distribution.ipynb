{
 "cells": [
  {
   "cell_type": "code",
   "execution_count": 1,
   "metadata": {},
   "outputs": [],
   "source": [
    "import scipy.io as sio\n",
    "import scipy.stats as stats\n",
    "from scipy import spatial\n",
    "import copy\n",
    "import matplotlib.pyplot as plt\n",
    "import pandas as pd\n",
    "import math\n",
    "import numpy as np\n",
    "import matplotlib.pyplot as plt\n",
    "import matplotlib.colors as mcolors\n",
    "from scipy.integrate import odeint\n",
    "from copy import deepcopy\n",
    "#from mpl_toolkits.axisartist.parasite_axes import HostAxes, ParasiteAxes\n",
    "import seaborn as sns\n",
    "import networkx as nx\n",
    "from itertools import combinations\n",
    "from itertools import permutations\n",
    "import random\n",
    "from scipy.spatial import distance"
   ]
  },
  {
   "cell_type": "code",
   "execution_count": 2,
   "metadata": {},
   "outputs": [],
   "source": [
    "def nmol_transform(compotype):\n",
    "    nmol = []\n",
    "    for val in compotype:\n",
    "        if val >= 1:\n",
    "            nmol.append(1)\n",
    "        else:\n",
    "            nmol.append(0)\n",
    "    return nmol"
   ]
  },
  {
   "cell_type": "code",
   "execution_count": 4,
   "metadata": {},
   "outputs": [
    {
     "data": {
      "text/plain": [
       "dict_keys(['__header__', '__version__', '__globals__', 'compotype_mat'])"
      ]
     },
     "execution_count": 4,
     "metadata": {},
     "output_type": "execute_result"
    }
   ],
   "source": [
    "data = sio.loadmat('C:\\\\Users\\\\Amit\\\\Box Sync\\\\B-OOLf\\\\Pap425 Attractor\\\\AAA Pap425 simulations\\\\GARD Simulation Project AK\\\\Compotype Database 10K.mat')\n",
    "data.keys()"
   ]
  },
  {
   "cell_type": "code",
   "execution_count": 5,
   "metadata": {},
   "outputs": [],
   "source": [
    "beta_amount = 10000\n",
    "\n",
    "compotypes_dict = {}\n",
    "counter = 0\n",
    "for beta_mat in data['compotype_mat'][0]:\n",
    "    counter +=1\n",
    "    compotypes_dict[counter] = []\n",
    "    df = pd.DataFrame(beta_mat)\n",
    "#     display(df)\n",
    "    if len(list(df.columns)) == 1:\n",
    "        compotype = list(df.iloc[:,0])\n",
    "        compotypes_dict[counter].append(compotype)\n",
    "    else:\n",
    "        for column in df.columns:\n",
    "            compotype = list(df.loc[:,column])\n",
    "            compotypes_dict[counter].append(compotype)"
   ]
  },
  {
   "cell_type": "code",
   "execution_count": 6,
   "metadata": {},
   "outputs": [
    {
     "name": "stdout",
     "output_type": "stream",
     "text": [
      "5123\n"
     ]
    },
    {
     "data": {
      "image/png": "[encoded data removed]",
      "text/plain": [
       "<Figure size 720x504 with 1 Axes>"
      ]
     },
     "metadata": {
      "needs_background": "light"
     },
     "output_type": "display_data"
    }
   ],
   "source": [
    "beta_amount = 10000\n",
    "only_single_compotypes = True\n",
    "\n",
    "nmol_list = []\n",
    "for beta in range(1,beta_amount+1):\n",
    "    compotypes = compotypes_dict[beta]\n",
    "    if only_single_compotypes:\n",
    "        if len(compotypes) > 1:\n",
    "            continue\n",
    "    compotype = compotypes[0]\n",
    "    compotype_bool = nmol_transform(compotype)\n",
    "    nmol_idxs = [counter for counter,value in enumerate(compotype_bool) if value == 1]\n",
    "    nmol = len(nmol_idxs)\n",
    "    nmol_list.append(nmol)\n",
    "        \n",
    "print(len(nmol_list))\n",
    "largest_nmol = max(nmol_list)\n",
    "xaxis = list(range(1,largest_nmol+1))\n",
    "size_counts = []\n",
    "for size in xaxis:\n",
    "    count = nmol_list.count(size)\n",
    "    size_counts.append(count)\n",
    "\n",
    "fig, ax = plt.subplots(figsize=(10, 7))\n",
    "plt.bar(xaxis,size_counts, width=1, ec='k', fc='w',linewidth=2)\n",
    "# plt.title(\"Histogram of Nmol in Single Compotypes\", fontsize=20)\n",
    "plt.xlabel(\"Nmol\",fontsize=20)\n",
    "plt.tick_params(labelsize=16)\n",
    "plt.ylabel(\"Counts\",fontsize=20)\n",
    "# ax.set_yscale('log')\n",
    "plt.savefig(\"Nmol Distribution in Single Compotypes.pdf\")"
   ]
  },
  {
   "cell_type": "code",
   "execution_count": null,
   "metadata": {},
   "outputs": [],
   "source": []
  }
 ],
 "metadata": {
  "kernelspec": {
   "display_name": "Python 3",
   "language": "python",
   "name": "python3"
  },
  "language_info": {
   "codemirror_mode": {
    "name": "ipython",
    "version": 3
   },
   "file_extension": ".py",
   "mimetype": "text/x-python",
   "name": "python",
   "nbconvert_exporter": "python",
   "pygments_lexer": "ipython3",
   "version": "3.7.6"
  }
 },
 "nbformat": 4,
 "nbformat_minor": 4
}
