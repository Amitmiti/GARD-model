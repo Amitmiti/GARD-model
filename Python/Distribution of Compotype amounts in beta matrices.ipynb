{
 "cells": [
  {
   "cell_type": "code",
   "execution_count": 1,
   "metadata": {},
   "outputs": [],
   "source": [
    "import scipy.io as sio\n",
    "import scipy.stats as stats\n",
    "import copy\n",
    "import matplotlib.pyplot as plt\n",
    "import pandas as pd\n",
    "import math\n",
    "import numpy as np\n",
    "import matplotlib.pyplot as plt\n",
    "import matplotlib.colors as mcolors\n",
    "from scipy.integrate import odeint\n",
    "from copy import deepcopy\n",
    "#from mpl_toolkits.axisartist.parasite_axes import HostAxes, ParasiteAxes\n",
    "import seaborn as sns\n",
    "import networkx as nx\n",
    "from itertools import combinations\n",
    "from itertools import permutations\n",
    "from itertools import combinations_with_replacement\n",
    "from scipy.spatial import distance\n",
    "from numpy import array\n",
    "# from numpy import count_nonzero\n",
    "from numba import jit\n",
    "from numpy import zeros\n",
    "import random\n",
    "import itertools\n",
    "import collections"
   ]
  },
  {
   "cell_type": "code",
   "execution_count": 2,
   "metadata": {},
   "outputs": [
    {
     "data": {
      "text/html": [
       "<div>\n",
       "<style scoped>\n",
       "    .dataframe tbody tr th:only-of-type {\n",
       "        vertical-align: middle;\n",
       "    }\n",
       "\n",
       "    .dataframe tbody tr th {\n",
       "        vertical-align: top;\n",
       "    }\n",
       "\n",
       "    .dataframe thead th {\n",
       "        text-align: right;\n",
       "    }\n",
       "</style>\n",
       "<table border=\"1\" class=\"dataframe\">\n",
       "  <thead>\n",
       "    <tr style=\"text-align: right;\">\n",
       "      <th></th>\n",
       "      <th>0</th>\n",
       "    </tr>\n",
       "  </thead>\n",
       "  <tbody>\n",
       "    <tr>\n",
       "      <th>0</th>\n",
       "      <td>1</td>\n",
       "    </tr>\n",
       "    <tr>\n",
       "      <th>1</th>\n",
       "      <td>1</td>\n",
       "    </tr>\n",
       "    <tr>\n",
       "      <th>2</th>\n",
       "      <td>2</td>\n",
       "    </tr>\n",
       "    <tr>\n",
       "      <th>3</th>\n",
       "      <td>3</td>\n",
       "    </tr>\n",
       "    <tr>\n",
       "      <th>4</th>\n",
       "      <td>3</td>\n",
       "    </tr>\n",
       "    <tr>\n",
       "      <th>...</th>\n",
       "      <td>...</td>\n",
       "    </tr>\n",
       "    <tr>\n",
       "      <th>9995</th>\n",
       "      <td>1</td>\n",
       "    </tr>\n",
       "    <tr>\n",
       "      <th>9996</th>\n",
       "      <td>1</td>\n",
       "    </tr>\n",
       "    <tr>\n",
       "      <th>9997</th>\n",
       "      <td>2</td>\n",
       "    </tr>\n",
       "    <tr>\n",
       "      <th>9998</th>\n",
       "      <td>1</td>\n",
       "    </tr>\n",
       "    <tr>\n",
       "      <th>9999</th>\n",
       "      <td>2</td>\n",
       "    </tr>\n",
       "  </tbody>\n",
       "</table>\n",
       "<p>10000 rows × 1 columns</p>\n",
       "</div>"
      ],
      "text/plain": [
       "      0\n",
       "0     1\n",
       "1     1\n",
       "2     2\n",
       "3     3\n",
       "4     3\n",
       "...  ..\n",
       "9995  1\n",
       "9996  1\n",
       "9997  2\n",
       "9998  1\n",
       "9999  2\n",
       "\n",
       "[10000 rows x 1 columns]"
      ]
     },
     "metadata": {},
     "output_type": "display_data"
    }
   ],
   "source": [
    "df_compotype_amounts = pd.read_csv(\"C:\\\\Users\\\\amitka\\Box Sync\\B-OOLf\\Pap425 Attractor\\AAA Pap425 simulations\\GARD Simulation Project AK\\Compotype amounts.csv\", header=None)\n",
    "display(df_compotype_amounts)"
   ]
  },
  {
   "cell_type": "code",
   "execution_count": 21,
   "metadata": {},
   "outputs": [
    {
     "data": {
      "image/png": "[encoded data removed]",
      "text/plain": [
       "<Figure size 792x576 with 1 Axes>"
      ]
     },
     "metadata": {
      "needs_background": "light"
     },
     "output_type": "display_data"
    }
   ],
   "source": [
    "compotype_amounts = list(df_compotype_amounts[0])\n",
    "scope = sum(compotype_amounts)\n",
    "amounts = []\n",
    "for size in range(min(compotype_amounts), max(compotype_amounts)+1):\n",
    "    amount = compotype_amounts.count(size)#/len(compotype_amounts)\n",
    "    amounts.append(amount)\n",
    "\n",
    "fig, ax = plt.subplots(figsize=(11,8))\n",
    "barplot = plt.bar(range(min(compotype_amounts),max(compotype_amounts)+1),amounts, color='w', edgecolor='k',linewidth=3)#, bins=array(range(21))/20)\n",
    "xticks_solv = plt.xticks(range(min(compotype_amounts),max(compotype_amounts)+1), fontsize=14)\n",
    "yaxislabel = plt.ylabel('Count', fontsize=18)\n",
    "xaxislabel = plt.xlabel('Composome Count in Network', fontsize=18)\n",
    "# title=plt.title('Distribution of Compotype amounts in 10K different Beta Matrices', fontsize=20)\n",
    "yticks_solv = plt.yticks(fontsize=14)\n",
    "ax.set_yscale('log')\n",
    "yticks = plt.yticks([30,100,300,1000,3000],[30,100,300,1000,3000],fontsize=14)\n",
    "# plt.hist(compotype_amounts)#, bins=array(range(21))/20)\n",
    "plt.savefig(\"Compotype Amounts Distribution.pdf\")"
   ]
  },
  {
   "cell_type": "code",
   "execution_count": null,
   "metadata": {},
   "outputs": [],
   "source": []
  }
 ],
 "metadata": {
  "kernelspec": {
   "display_name": "Python 3",
   "language": "python",
   "name": "python3"
  },
  "language_info": {
   "codemirror_mode": {
    "name": "ipython",
    "version": 3
   },
   "file_extension": ".py",
   "mimetype": "text/x-python",
   "name": "python",
   "nbconvert_exporter": "python",
   "pygments_lexer": "ipython3",
   "version": "3.7.6"
  }
 },
 "nbformat": 4,
 "nbformat_minor": 2
}
